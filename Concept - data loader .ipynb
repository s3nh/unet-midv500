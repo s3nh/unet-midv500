{
 "cells": [
  {
   "cell_type": "code",
   "execution_count": 71,
   "metadata": {},
   "outputs": [],
   "source": [
    "#import albumentations\n",
    "import cv2\n",
    "import numpy as np \n",
    "import os \n",
    "import pandas as pd \n",
    "from PIL import Image\n",
    "import re\n",
    "\n",
    "import torch \n",
    "import torchvision"
   ]
  },
  {
   "cell_type": "code",
   "execution_count": 19,
   "metadata": {},
   "outputs": [],
   "source": [
    "# Model imports \n",
    "\n",
    "from torchvision.models.detection.faster_rcnn import FastRCNNPredictor\n",
    "from torchvision.models.detection import FasterRCNN\n",
    "from torchvision.models.detection.rpn import AnchorGenerator\n",
    "\n",
    "from torch.utils.data import DataLoader, Dataset\n",
    "from torch.utils.data.sampler import SequentialSampler"
   ]
  },
  {
   "cell_type": "code",
   "execution_count": 8,
   "metadata": {},
   "outputs": [],
   "source": [
    "DATA_PATH = 'data/smartwarehouseyolo/SmartWarehouseYOLO/'"
   ]
  },
  {
   "cell_type": "code",
   "execution_count": 13,
   "metadata": {},
   "outputs": [
    {
     "data": {
      "text/plain": [
       "1998"
      ]
     },
     "execution_count": 13,
     "metadata": {},
     "output_type": "execute_result"
    }
   ],
   "source": [
    "len(os.listdir(os.path.join(DATA_PATH, 'data')))"
   ]
  },
  {
   "cell_type": "code",
   "execution_count": 28,
   "metadata": {},
   "outputs": [],
   "source": [
    "with open(os.path.join(DATA_PATH, 'smartwarehouse_train.txt'), 'r') as trainfile:\n",
    "    file = trainfile.read()"
   ]
  },
  {
   "cell_type": "code",
   "execution_count": 76,
   "metadata": {},
   "outputs": [],
   "source": [
    "file = open(os.path.join(DATA_PATH, 'data/000002.txt'), 'r')\n",
    "_res = list()\n",
    "for line in file:\n",
    "    line  = re.sub('\\n', ' ', line)\n",
    "    line[2:-1].split(' ')\n",
    "    _res.append(line[2:-1].split(' '))"
   ]
  },
  {
   "cell_type": "code",
   "execution_count": 80,
   "metadata": {},
   "outputs": [],
   "source": [
    "def get_boxes(txt_file):\n",
    "    file = open(txt_file, 'r')\n",
    "    _res = list()\n",
    "    for line in file:\n",
    "        line = re.sub('\\n', ' ', line)\n",
    "        _res.append(line[2:-1].split(' ') )\n",
    "    return _res        "
   ]
  },
  {
   "cell_type": "code",
   "execution_count": 83,
   "metadata": {},
   "outputs": [],
   "source": [
    "class SmartWareHouseDataset(Dataset):\n",
    "    \n",
    "    def __init__(self,  image_dir, transforms=None):\n",
    "        super().__init__()\n",
    "        self.txt_file = txt_file\n",
    "        self.image_dir = image_dir \n",
    "        self.transforms = transforms\n",
    "        self.image_ids = [ f'{el:06}' for el in range(1000)]\n",
    "    \n",
    "    def __getitem__(self, index: int):\n",
    "        image_id = self.image_ids[index]\n",
    "        image =  cv2.imread(os.path.join(self.image_dir, f'{image_id}.jpg'))\n",
    "        # Convert image \n",
    "        image = cv2.cvtColor(image, cv2.COLOR_BGR2RGB).astype(np.float32)\n",
    "        image /= 255.0\n",
    "        \n",
    "        \n",
    "        box = get_boxes(os.path.join(self.image_dir, f'{image_id}.txt'))\n",
    "        n_boxes = len(box)\n",
    "        assert n_boxes > 0, 'There are no boxes on provided image'\n",
    "        \n",
    "        if self.transforms:\n",
    "            sample = {\n",
    "                'image' : image,\n",
    "            }\n",
    "            sample = self.transforms(**sample)\n",
    "            image = sample['image']\n",
    "        return image, image_id, box \n",
    "    \n",
    "    \n",
    "    "
   ]
  },
  {
   "cell_type": "code",
   "execution_count": null,
   "metadata": {},
   "outputs": [],
   "source": []
  }
 ],
 "metadata": {
  "kernelspec": {
   "display_name": "bengali",
   "language": "python",
   "name": "bengali"
  },
  "language_info": {
   "codemirror_mode": {
    "name": "ipython",
    "version": 3
   },
   "file_extension": ".py",
   "mimetype": "text/x-python",
   "name": "python",
   "nbconvert_exporter": "python",
   "pygments_lexer": "ipython3",
   "version": "3.7.4"
  }
 },
 "nbformat": 4,
 "nbformat_minor": 2
}
